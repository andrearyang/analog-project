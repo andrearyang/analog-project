{
 "cells": [
  {
   "cell_type": "markdown",
   "metadata": {},
   "source": [
    "# Documentation for Benchmarking Process\n",
    "\n",
    "## Autodock Vina\n",
    "\n",
    "I downloaded 296 PDBs for selected proteins in _E. coli_ and 218 ligands in the SMILES format. The next step was to dock each protein against each ligand."
   ]
  },
  {
   "cell_type": "code",
   "execution_count": null,
   "metadata": {},
   "outputs": [
    {
     "name": "stdout",
     "output_type": "stream",
     "text": [
      "Downloaded P0ABD5.pdb\n",
      "Downloaded P0ABD8.pdb\n",
      "Downloaded P24182.pdb\n",
      "Downloaded P0A9Q5.pdb\n",
      "Downloaded P0A6A8.pdb\n",
      "Downloaded P69441.pdb\n",
      "Downloaded P00957.pdb\n",
      "Downloaded P11875.pdb\n",
      "Downloaded P0A8M0.pdb\n",
      "Downloaded P21889.pdb\n",
      "Downloaded P0A940.pdb\n",
      "Downloaded P0ABG1.pdb\n",
      "Downloaded P0A6I0.pdb\n",
      "Downloaded P0A6I6.pdb\n",
      "Downloaded P69913.pdb\n",
      "Downloaded P23886.pdb\n",
      "Downloaded P21888.pdb\n",
      "Downloaded P0A6K3.pdb\n",
      "Downloaded P0A6P5.pdb\n",
      "Downloaded P03004.pdb\n",
      "Downloaded P0ACB0.pdb\n",
      "Downloaded P0AEF0.pdb\n",
      "Downloaded P10443.pdb\n",
      "Downloaded P0ABS5.pdb\n",
      "Downloaded P0A988.pdb\n",
      "Downloaded P0A8J2.pdb\n",
      "Downloaded P45568.pdb\n",
      "Downloaded P77488.pdb\n",
      "Downloaded P0A6P9.pdb\n",
      "Downloaded P06616.pdb\n",
      "Downloaded P0A6Q3.pdb\n",
      "Downloaded P0A953.pdb\n",
      "Downloaded P0AAI9.pdb\n",
      "Downloaded P0AEK2.pdb\n",
      "Downloaded P0A6R0.pdb\n",
      "Downloaded P0AEK4.pdb\n",
      "Downloaded P0A6Q6.pdb\n",
      "Downloaded P0AB71.pdb\n",
      "Downloaded P0AGD7.pdb\n",
      "Downloaded P61949.pdb\n",
      "Downloaded P0ABQ4.pdb\n",
      "Downloaded P0A805.pdb\n",
      "Downloaded P0ABH0.pdb\n",
      "Downloaded P0A6S5.pdb\n",
      "Downloaded P0AD68.pdb\n",
      "Downloaded P0AEN4.pdb\n",
      "Downloaded P06136.pdb\n",
      "Downloaded P0ABG4.pdb\n",
      "Downloaded P10121.pdb\n",
      "Downloaded P0A9A6.pdb\n",
      "Downloaded P0A6M8.pdb\n",
      "Downloaded P0A9B2.pdb\n",
      "Downloaded P31120.pdb\n",
      "Downloaded P04805.pdb\n",
      "Downloaded P00960.pdb\n",
      "Downloaded P00961.pdb\n",
      "Downloaded P60546.pdb\n",
      "Downloaded P0A6F5.pdb\n",
      "Downloaded P04079.pdb\n",
      "Downloaded P0AES4.pdb\n",
      "Downloaded P0AES6.pdb\n",
      "Downloaded P06983.pdb\n",
      "Downloaded P60906.pdb\n",
      "Downloaded P28630.pdb\n",
      "Downloaded P28631.pdb\n",
      "Downloaded P08200.pdb\n",
      "Downloaded P00956.pdb\n",
      "Downloaded P0A705.pdb\n",
      "Downloaded P0A707.pdb\n",
      "Downloaded P22939.pdb\n",
      "Downloaded P0AD57.pdb\n",
      "Downloaded Q46893.pdb\n",
      "Downloaded P62615.pdb\n",
      "Downloaded P62623.pdb\n",
      "Downloaded P60472.pdb\n",
      "Downloaded P0A715.pdb\n",
      "Downloaded P00803.pdb\n",
      "Downloaded P07813.pdb\n",
      "Downloaded P60955.pdb\n",
      "Downloaded P15042.pdb\n",
      "Downloaded P23930.pdb\n",
      "Downloaded P61316.pdb\n",
      "Downloaded P61320.pdb\n",
      "Downloaded P0ADC3.pdb\n",
      "Downloaded P75957.pdb\n",
      "Downloaded P75958.pdb\n",
      "Downloaded P0ADV1.pdb\n",
      "Downloaded P0A9V1.pdb\n",
      "Downloaded P31554.pdb\n",
      "Downloaded P0ADC1.pdb\n",
      "Downloaded P0AF98.pdb\n",
      "Downloaded P0ADC6.pdb\n",
      "Downloaded P0A722.pdb\n",
      "Downloaded P10441.pdb\n",
      "Downloaded P0A725.pdb\n",
      "Downloaded P21645.pdb\n",
      "Downloaded P43341.pdb\n",
      "Downloaded P27300.pdb\n",
      "Downloaded P00804.pdb\n",
      "Downloaded P0A8N3.pdb\n",
      "Downloaded P0AE18.pdb\n",
      "Downloaded P0A817.pdb\n",
      "Downloaded P25745.pdb\n",
      "Downloaded P0AD65.pdb\n",
      "Downloaded P0ABG7.pdb\n",
      "Downloaded P0A9X4.pdb\n",
      "Downloaded P16926.pdb\n",
      "Downloaded P0ABH4.pdb\n",
      "Downloaded P60752.pdb\n",
      "Downloaded P22523.pdb\n",
      "Downloaded P60293.pdb\n",
      "Downloaded P0A749.pdb\n",
      "Downloaded P08373.pdb\n",
      "Downloaded P17952.pdb\n",
      "Downloaded P14900.pdb\n",
      "Downloaded P22188.pdb\n",
      "Downloaded P11880.pdb\n",
      "Downloaded P17443.pdb\n",
      "Downloaded P22634.pdb\n",
      "Downloaded P0AF16.pdb\n",
      "Downloaded P00452.pdb\n",
      "Downloaded P0AFF6.pdb\n",
      "Downloaded P0A780.pdb\n",
      "Downloaded P0AFG0.pdb\n",
      "Downloaded P0A784.pdb\n",
      "Downloaded P0AFI2.pdb\n",
      "Downloaded P20083.pdb\n",
      "Downloaded P08312.pdb\n",
      "Downloaded P07395.pdb\n",
      "Downloaded P0A7A7.pdb\n",
      "Downloaded P00582.pdb\n",
      "Downloaded P0A7A9.pdb\n",
      "Downloaded P07013.pdb\n",
      "Downloaded P16659.pdb\n",
      "Downloaded P0A717.pdb\n",
      "Downloaded P0A8K1.pdb\n",
      "Downloaded P23830.pdb\n",
      "Downloaded P0AB89.pdb\n",
      "Downloaded P0A7E5.pdb\n",
      "Downloaded P0A7E9.pdb\n",
      "Downloaded P0AG30.pdb\n",
      "Downloaded P0A7I7.pdb\n",
      "Downloaded P25539.pdb\n",
      "Downloaded P61714.pdb\n",
      "Downloaded P0AG40.pdb\n",
      "Downloaded P0A7X6.pdb\n",
      "Downloaded P0C0R7.pdb\n",
      "Downloaded P21513.pdb\n",
      "Downloaded P0A7Y8.pdb\n",
      "Downloaded P0A7L0.pdb\n",
      "Downloaded P60422.pdb\n",
      "Downloaded P60438.pdb\n",
      "Downloaded P60723.pdb\n",
      "Downloaded P62399.pdb\n",
      "Downloaded P0AG55.pdb\n",
      "Downloaded P0A7J3.pdb\n",
      "Downloaded P0A7J7.pdb\n",
      "Downloaded P0A7K2.pdb\n",
      "Downloaded P0AA10.pdb\n",
      "Downloaded P0ADY3.pdb\n",
      "Downloaded P02413.pdb\n",
      "Downloaded P0ADY7.pdb\n",
      "Downloaded P0AG44.pdb\n",
      "Downloaded P0C018.pdb\n",
      "Downloaded P0A7K6.pdb\n",
      "Downloaded P0A7L3.pdb\n",
      "Downloaded P61175.pdb\n",
      "Downloaded P0ADZ0.pdb\n",
      "Downloaded P60624.pdb\n",
      "Downloaded P68919.pdb\n",
      "Downloaded P0A7L8.pdb\n",
      "Downloaded P0AG51.pdb\n",
      "Downloaded P0A7P5.pdb\n",
      "Downloaded P0A7Q6.pdb\n",
      "Downloaded P0A7Z4.pdb\n",
      "Downloaded P0A8V2.pdb\n",
      "Downloaded P0A8T7.pdb\n",
      "Downloaded P0AG67.pdb\n",
      "Downloaded P0A7V0.pdb\n",
      "Downloaded P0A7V8.pdb\n",
      "Downloaded P0A7W1.pdb\n",
      "Downloaded P02358.pdb\n",
      "Downloaded P02359.pdb\n",
      "Downloaded P0A7R5.pdb\n",
      "Downloaded P0A7R9.pdb\n",
      "Downloaded P0A7S3.pdb\n",
      "Downloaded P0A7S9.pdb\n",
      "Downloaded P0AG59.pdb\n",
      "Downloaded P0ADZ4.pdb\n",
      "Downloaded P0AG63.pdb\n",
      "Downloaded P0A7T7.pdb\n",
      "Downloaded P0A7U3.pdb\n",
      "Downloaded P0A7U7.pdb\n",
      "Downloaded P0AEH1.pdb\n",
      "Downloaded P39286.pdb\n",
      "Downloaded P10408.pdb\n",
      "Downloaded P0AG96.pdb\n",
      "Downloaded P62395.pdb\n",
      "Downloaded P0AGA2.pdb\n",
      "Downloaded P0A8L1.pdb\n",
      "Downloaded P0AG24.pdb\n",
      "Downloaded P0AGE0.pdb\n",
      "Downloaded P0ADG4.pdb\n",
      "Downloaded P0A8M3.pdb\n",
      "Downloaded P0A884.pdb\n",
      "Downloaded P0A720.pdb\n",
      "Downloaded P06612.pdb\n",
      "Downloaded P0A873.pdb\n",
      "Downloaded P00954.pdb\n",
      "Downloaded P05852.pdb\n",
      "Downloaded P0AF67.pdb\n",
      "Downloaded P0A6P1.pdb\n",
      "Downloaded P45531.pdb\n",
      "Downloaded P0AGJ9.pdb\n",
      "Downloaded P0A6A0.pdb\n",
      "Downloaded P07118.pdb\n",
      "Downloaded P0AC75.pdb\n",
      "Downloaded P0A898.pdb\n",
      "Downloaded P0AD27.pdb\n",
      "Downloaded P25714.pdb\n",
      "Downloaded P0A8I1.pdb\n",
      "Downloaded P77173.pdb\n",
      "Downloaded P24224.pdb\n",
      "Downloaded P0A9Q9.pdb\n",
      "Downloaded P0AC02.pdb\n",
      "Downloaded P06709.pdb\n",
      "Downloaded P61517.pdb\n",
      "Downloaded P06961.pdb\n",
      "Downloaded P0A6I3.pdb\n",
      "Downloaded P0A6I9.pdb\n",
      "Downloaded P0ABJ9.pdb\n",
      "Downloaded P0A6L2.pdb\n",
      "Downloaded P0AEE3.pdb\n",
      "Downloaded P06966.pdb\n",
      "Downloaded P06710.pdb\n",
      "Downloaded P06968.pdb\n",
      "Downloaded P0ACC3.pdb\n",
      "Downloaded P23882.pdb\n",
      "Downloaded P08192.pdb\n",
      "Downloaded P24186.pdb\n",
      "Downloaded P0AAI3.pdb\n",
      "Downloaded P17169.pdb\n",
      "Downloaded P0ACC7.pdb\n",
      "Downloaded P00962.pdb\n",
      "Downloaded P0A6S7.pdb\n",
      "Downloaded P0A6F9.pdb\n",
      "Downloaded P0A6X1.pdb\n",
      "Downloaded P0ACB2.pdb\n",
      "Downloaded P09126.pdb\n",
      "Downloaded P0ACB4.pdb\n",
      "Downloaded P23871.pdb\n",
      "Downloaded P23893.pdb\n",
      "Downloaded P69222.pdb\n",
      "Downloaded P62617.pdb\n",
      "Downloaded P62620.pdb\n",
      "Downloaded P04951.pdb\n",
      "Downloaded P0A7C2.pdb\n",
      "Downloaded P00959.pdb\n",
      "Downloaded P0A6W3.pdb\n",
      "Downloaded P22524.pdb\n",
      "Downloaded P0A752.pdb\n",
      "Downloaded P18843.pdb\n",
      "Downloaded P0A7B3.pdb\n",
      "Downloaded P69924.pdb\n",
      "Downloaded P42641.pdb\n",
      "Downloaded P0A799.pdb\n",
      "Downloaded P0ABF8.pdb\n",
      "Downloaded P26647.pdb\n",
      "Downloaded P0A7I0.pdb\n",
      "Downloaded P07012.pdb\n",
      "Downloaded P0ACC1.pdb\n",
      "Downloaded P0A7D1.pdb\n",
      "Downloaded P76062.pdb\n",
      "Downloaded P0AFU8.pdb\n",
      "Downloaded P0AG48.pdb\n",
      "Downloaded P0A7M2.pdb\n",
      "Downloaded P0A7M6.pdb\n",
      "Downloaded P00579.pdb\n",
      "Downloaded P0AGB6.pdb\n",
      "Downloaded P0A7V3.pdb\n",
      "Downloaded P0A7W7.pdb\n",
      "Downloaded P0A7T3.pdb\n",
      "Downloaded P68679.pdb\n",
      "Downloaded P0AG90.pdb\n",
      "Downloaded P68398.pdb\n",
      "Downloaded P0AGG0.pdb\n",
      "Downloaded P52097.pdb\n",
      "Downloaded P76256.pdb\n",
      "Downloaded P45748.pdb\n",
      "Downloaded P0AGK1.pdb\n",
      "Downloaded P0AAB4.pdb\n",
      "Downloaded P45800.pdb\n",
      "Downloaded P0A6P7.pdb\n",
      "Downloaded P0A9P0.pdb\n",
      "Downloaded P0ABQ0.pdb\n",
      "Downloaded P0A800.pdb\n"
     ]
    }
   ],
   "source": [
    "# Script to automate PDB file download from UniProt. This code allows me to download all of the PDBs at once into the benchmarking file. I then put all of these into one subfolder.\n",
    "\n",
    "import requests\n",
    "\n",
    "uniprot_ids = [\n",
    "    \"P0ABD5\", \"P0ABD8\", \"P24182\", \"P0A9Q5\", \"P0A6A8\", \"P69441\", \"P00957\", \"P11875\", \"P0A8M0\", \"P21889\",\n",
    "    \"P0A940\", \"P0ABG1\", \"P0A6I0\", \"P0A6I6\", \"P69913\", \"P23886\", \"P21888\", \"P0A6K3\", \"P0A6P5\", \"P03004\",\n",
    "    \"P0ACB0\", \"P0AEF0\", \"P10443\", \"P0ABS5\", \"P0A988\", \"P0A8J2\", \"P45568\", \"P77488\", \"P0A6P9\", \"P06616\",\n",
    "    \"P0A6Q3\", \"P0A953\", \"P0AAI9\", \"P0AEK2\", \"P0A6R0\", \"P0AEK4\", \"P0A6Q6\", \"P0AB71\", \"P0AGD7\", \"P61949\",\n",
    "    \"P0ABQ4\", \"P0A805\", \"P0ABH0\", \"P0A6S5\", \"P0AD68\", \"P0AEN4\", \"P06136\", \"P0ABG4\", \"P10121\", \"P0A9A6\",\n",
    "    \"P0A6M8\", \"P0A9B2\", \"P31120\", \"P04805\", \"P00960\", \"P00961\", \"P60546\", \"P0A6F5\", \"P04079\", \"P0AES4\",\n",
    "    \"P0AES6\", \"P06983\", \"P60906\", \"P28630\", \"P28631\", \"P08200\", \"P00956\", \"P0A705\", \"P0A707\", \"P22939\",\n",
    "    \"P0AD57\", \"Q46893\", \"P62615\", \"P62623\", \"P60472\", \"P0A715\", \"P00803\", \"P07813\", \"P60955\", \"P15042\",\n",
    "    \"P23930\", \"P61316\", \"P61320\", \"P0ADC3\", \"P75957\", \"P75958\", \"P0ADV1\", \"P0A9V1\", \"P31554\", \"P0ADC1\",\n",
    "    \"P0AF98\", \"P0ADC6\", \"P0A722\", \"P10441\", \"P0A725\", \"P21645\", \"P43341\", \"P27300\", \"P00804\", \"P0A8N3\",\n",
    "    \"P0AE18\", \"P0A817\", \"P25745\", \"P0AD65\", \"P0ABG7\", \"P0A9X4\", \"P16926\", \"P0ABH4\", \"P60752\", \"P22523\",\n",
    "    \"P60293\", \"P0A749\", \"P08373\", \"P17952\", \"P14900\", \"P22188\", \"P11880\", \"P17443\", \"P22634\", \"P0AF16\",\n",
    "    \"P00452\", \"P0AFF6\", \"P0A780\", \"P0AFG0\", \"P0A784\", \"P0AFI2\", \"P20083\", \"P08312\", \"P07395\", \"P0A7A7\",\n",
    "    \"P00582\", \"P0A7A9\", \"P07013\", \"P16659\", \"P0A717\", \"P0A8K1\", \"P23830\", \"P0AB89\", \"P0A7E5\", \"P0A7E9\",\n",
    "    \"P0AG30\", \"P0A7I7\", \"P25539\", \"P61714\", \"P0AG40\", \"P0A7X6\", \"P0C0R7\", \"P21513\", \"P0A7Y8\", \"P0A7L0\",\n",
    "    \"P60422\", \"P60438\", \"P60723\", \"P62399\", \"P0AG55\", \"P0A7J3\", \"P0A7J7\", \"P0A7K2\", \"P0AA10\", \"P0ADY3\",\n",
    "    \"P02413\", \"P0ADY7\", \"P0AG44\", \"P0C018\", \"P0A7K6\", \"P0A7L3\", \"P61175\", \"P0ADZ0\", \"P60624\", \"P68919\",\n",
    "    \"P0A7L8\", \"P0AG51\", \"P0A7P5\", \"P0A7Q6\", \"P0A7Z4\", \"P0A8V2\", \"P0A8T7\", \"P0AG67\", \"P0A7V0\", \"P0A7V8\",\n",
    "    \"P0A7W1\", \"P02358\", \"P02359\", \"P0A7R5\", \"P0A7R9\", \"P0A7S3\", \"P0A7S9\", \"P0AG59\", \"P0ADZ4\", \"P0AG63\",\n",
    "    \"P0A7T7\", \"P0A7U3\", \"P0A7U7\", \"P0AEH1\", \"P39286\", \"P10408\", \"P0AG96\", \"P62395\", \"P0AGA2\", \"P0A8L1\",\n",
    "    \"P0AG24\", \"P0AGE0\", \"P0ADG4\", \"P0A8M3\", \"P0A884\", \"P0A720\", \"P06612\", \"P0A873\", \"P00954\", \"P05852\",\n",
    "    \"P0AF67\", \"P0A6P1\", \"P45531\", \"P0AGJ9\", \"P0A6A0\", \"P07118\", \"P0AC75\", \"P0A898\", \"P0AD27\", \"P25714\",\n",
    "    \"P0A8I1\", \"P77173\", \"P24224\", \"P0A9Q9\", \"P0AC02\", \"P06709\", \"P61517\", \"P06961\", \"P0A6I3\", \"P0A6I9\",\n",
    "    \"P0ABJ9\", \"P0A6L2\", \"P0AEE3\", \"P06966\", \"P06710\", \"P06968\", \"P0ACC3\", \"P23882\", \"P08192\", \"P24186\",\n",
    "    \"P0AAI3\", \"P17169\", \"P0ACC7\", \"P00962\", \"P0A6S7\", \"P0A6F9\", \"P0A6X1\", \"P0ACB2\", \"P09126\", \"P0ACB4\",\n",
    "    \"P23871\", \"P23893\", \"P69222\", \"P62617\", \"P62620\", \"P04951\", \"P0A7C2\", \"P00959\", \"P0A6W3\", \"P22524\",\n",
    "    \"P0A752\", \"P18843\", \"P0A7B3\", \"P69924\", \"P42641\", \"P0A799\", \"P0ABF8\", \"P26647\", \"P0A7I0\", \"P07012\",\n",
    "    \"P0ACC1\", \"P0A7D1\", \"P76062\", \"P0AFU8\", \"P0AG48\", \"P0A7M2\", \"P0A7M6\", \"P00579\", \"P0AGB6\", \"P0A7V3\",\n",
    "    \"P0A7W7\", \"P0A7T3\", \"P68679\", \"P0AG90\", \"P68398\", \"P0AGG0\", \"P52097\", \"P76256\", \"P45748\", \"P0AGK1\",\n",
    "    \"P0AAB4\", \"P45800\", \"P0A6P7\", \"P0A9P0\", \"P0ABQ0\", \"P0A800\"\n",
    "]\n",
    "\n",
    "for uniprot_id in uniprot_ids:\n",
    "    url = f\"https://alphafold.ebi.ac.uk/files/AF-{uniprot_id}-F1-model_v4.pdb\"\n",
    "    response = requests.get(url)\n",
    "    if response.status_code == 200:\n",
    "        with open(f\"{uniprot_id}.pdb\", \"w\") as f:\n",
    "            f.write(response.text)\n",
    "        print(f\"Downloaded {uniprot_id}.pdb\")\n",
    "    else:\n",
    "        print(f\"Failed to download {uniprot_id}.pdb\")"
   ]
  },
  {
   "cell_type": "code",
   "execution_count": 1,
   "metadata": {},
   "outputs": [],
   "source": [
    "def parse_smiles_data(file_path):\n",
    "    \n",
    "    smiles_data = []\n",
    "    \n",
    "    with open(file_path, 'r') as file:\n",
    "        next(file)\n",
    "        for line in file:\n",
    "            parts = line.strip().split('\\t')\n",
    "            \n",
    "            if len(parts) >= 2:\n",
    "                name = parts[0]\n",
    "                smiles = parts[1]\n",
    "                \n",
    "                smiles_data.append((name, smiles))\n",
    "    \n",
    "    return smiles_data\n",
    "\n",
    "input_file = '/Users/andreayang/analog-gnn/benchmarking/docking.csv'\n",
    "smiles_data = parse_smiles_data(input_file)"
   ]
  },
  {
   "cell_type": "code",
   "execution_count": 2,
   "metadata": {},
   "outputs": [
    {
     "name": "stderr",
     "output_type": "stream",
     "text": [
      "[22:50:48] UFFTYPER: Unrecognized charge state for atom: 93\n",
      "[22:50:49] UFFTYPER: Unrecognized charge state for atom: 4\n",
      "[22:50:50] UFFTYPER: Unrecognized charge state for atom: 4\n",
      "[22:50:52] UFFTYPER: Unrecognized charge state for atom: 93\n",
      "[22:50:54] UFFTYPER: Unrecognized charge state for atom: 4\n",
      "[22:50:54] UFFTYPER: Unrecognized charge state for atom: 4\n",
      "[22:51:05] UFFTYPER: Unrecognized charge state for atom: 23\n",
      "[22:51:05] UFFTYPER: Unrecognized charge state for atom: 23\n",
      "[22:51:26] UFFTYPER: Unrecognized atom type: Zn1+2 (8)\n",
      "[22:51:26] UFFTYPER: Unrecognized atom type: Zn1+2 (8)\n"
     ]
    },
    {
     "name": "stdout",
     "output_type": "stream",
     "text": [
      "3D SDF file saved to /Users/andreayang/analog-gnn/benchmarking/output_3d.sdf\n"
     ]
    }
   ],
   "source": [
    "import pandas as pd\n",
    "from rdkit import Chem\n",
    "from rdkit.Chem import AllChem, PandasTools\n",
    "\n",
    "csv_file = '/Users/andreayang/analog-gnn/benchmarking/docking.csv'\n",
    "df = pd.read_csv(csv_file)\n",
    "\n",
    "def smiles_to_3d(smi):\n",
    "    mol = Chem.MolFromSmiles(smi)\n",
    "    if mol is None:\n",
    "        return None\n",
    "    mol = Chem.AddHs(mol)\n",
    "    if AllChem.EmbedMolecule(mol, AllChem.ETKDG()) != 0:\n",
    "        return None\n",
    "    AllChem.UFFOptimizeMolecule(mol)\n",
    "    return mol\n",
    "\n",
    "df['Molecule'] = df['SMILES'].apply(smiles_to_3d)\n",
    "df = df.dropna(subset=['Molecule'])\n",
    "sdf_file = '/Users/andreayang/analog-gnn/benchmarking/output_3d.sdf'\n",
    "PandasTools.WriteSDF(df, sdf_file, molColName='Molecule', properties=list(df.columns))\n",
    "\n",
    "print(f\"3D SDF file saved to {sdf_file}\")"
   ]
  },
  {
   "cell_type": "code",
   "execution_count": 4,
   "metadata": {},
   "outputs": [
    {
     "name": "stdout",
     "output_type": "stream",
     "text": [
      "Molecule 1 is valid\n",
      "Molecule 2 is valid\n",
      "Molecule 3 is valid\n",
      "Molecule 4 is valid\n",
      "Molecule 5 is valid\n",
      "Molecule 6 is valid\n",
      "Molecule 7 is valid\n",
      "Molecule 8 is valid\n",
      "Molecule 9 is valid\n",
      "Molecule 10 is valid\n",
      "Molecule 11 is valid\n",
      "Molecule 12 is valid\n",
      "Molecule 13 is valid\n",
      "Molecule 14 is valid\n",
      "Molecule 15 is valid\n",
      "Molecule 16 is valid\n",
      "Molecule 17 is valid\n",
      "Molecule 18 is valid\n",
      "Molecule 19 is valid\n",
      "Molecule 20 is valid\n",
      "Molecule 21 is valid\n",
      "Molecule 22 is valid\n",
      "Molecule 23 is valid\n",
      "Molecule 24 is valid\n",
      "Molecule 25 is valid\n",
      "Molecule 26 is valid\n",
      "Molecule 27 is valid\n",
      "Molecule 28 is valid\n",
      "Molecule 29 is valid\n",
      "Molecule 30 is valid\n",
      "Molecule 31 is valid\n",
      "Molecule 32 is valid\n",
      "Molecule 33 is valid\n",
      "Molecule 34 is valid\n",
      "Molecule 35 is valid\n",
      "Molecule 36 is valid\n",
      "Molecule 37 is valid\n",
      "Molecule 38 is valid\n",
      "Molecule 39 is valid\n",
      "Molecule 40 is valid\n",
      "Molecule 41 is valid\n",
      "Molecule 42 is valid\n",
      "Molecule 43 is valid\n",
      "Molecule 44 is valid\n",
      "Molecule 45 is valid\n",
      "Molecule 46 is valid\n",
      "Molecule 47 is valid\n",
      "Molecule 48 is valid\n",
      "Molecule 49 is valid\n",
      "Molecule 50 is valid\n",
      "Molecule 51 is valid\n",
      "Molecule 52 is valid\n",
      "Molecule 53 is valid\n",
      "Molecule 54 is valid\n",
      "Molecule 55 is valid\n",
      "Molecule 56 is valid\n",
      "Molecule 57 is valid\n",
      "Molecule 58 is valid\n",
      "Molecule 59 is valid\n",
      "Molecule 60 is valid\n",
      "Molecule 61 is valid\n",
      "Molecule 62 is valid\n",
      "Molecule 63 is valid\n",
      "Molecule 64 is valid\n",
      "Molecule 65 is valid\n",
      "Molecule 66 is valid\n",
      "Molecule 67 is valid\n",
      "Molecule 68 is valid\n",
      "Molecule 69 is valid\n",
      "Molecule 70 is valid\n",
      "Molecule 71 is valid\n",
      "Molecule 72 is valid\n",
      "Molecule 73 is valid\n",
      "Molecule 74 is valid\n",
      "Molecule 75 is valid\n",
      "Molecule 76 is valid\n",
      "Molecule 77 is valid\n",
      "Molecule 78 is valid\n",
      "Molecule 79 is valid\n",
      "Molecule 80 is valid\n",
      "Molecule 81 is valid\n",
      "Molecule 82 is valid\n",
      "Molecule 83 is valid\n",
      "Molecule 84 is valid\n",
      "Molecule 85 is valid\n",
      "Molecule 86 is valid\n",
      "Molecule 87 is valid\n",
      "Molecule 88 is valid\n",
      "Molecule 89 is valid\n",
      "Molecule 90 is valid\n",
      "Molecule 91 is valid\n",
      "Molecule 92 is valid\n",
      "Molecule 93 is valid\n",
      "Molecule 94 is valid\n",
      "Molecule 95 is valid\n",
      "Molecule 96 is valid\n",
      "Molecule 97 is valid\n",
      "Molecule 98 is valid\n",
      "Molecule 99 is valid\n",
      "Molecule 100 is valid\n",
      "Molecule 101 is valid\n",
      "Molecule 102 is valid\n",
      "Molecule 103 is valid\n",
      "Molecule 104 is valid\n",
      "Molecule 105 is valid\n",
      "Molecule 106 is valid\n",
      "Molecule 107 is valid\n",
      "Molecule 108 is valid\n",
      "Molecule 109 is valid\n",
      "Molecule 110 is valid\n",
      "Molecule 111 is valid\n",
      "Molecule 112 is valid\n",
      "Molecule 113 is valid\n",
      "Molecule 114 is valid\n",
      "Molecule 115 is valid\n",
      "Molecule 116 is valid\n",
      "Molecule 117 is valid\n",
      "Molecule 118 is valid\n",
      "Molecule 119 is valid\n",
      "Molecule 120 is valid\n",
      "Molecule 121 is valid\n",
      "Molecule 122 is valid\n",
      "Molecule 123 is valid\n",
      "Molecule 124 is valid\n",
      "Molecule 125 is valid\n",
      "Molecule 126 is valid\n",
      "Molecule 127 is valid\n",
      "Molecule 128 is valid\n",
      "Molecule 129 is valid\n",
      "Molecule 130 is valid\n",
      "Molecule 131 is valid\n",
      "Molecule 132 is valid\n",
      "Molecule 133 is valid\n",
      "Molecule 134 is valid\n",
      "Molecule 135 is valid\n",
      "Molecule 136 is valid\n",
      "Molecule 137 is valid\n",
      "Molecule 138 is valid\n",
      "Molecule 139 is valid\n",
      "Molecule 140 is valid\n",
      "Molecule 141 is valid\n",
      "Molecule 142 is valid\n",
      "Molecule 143 is valid\n",
      "Molecule 144 is valid\n",
      "Molecule 145 is valid\n",
      "Molecule 146 is valid\n",
      "Molecule 147 is valid\n",
      "Molecule 148 is valid\n",
      "Molecule 149 is valid\n",
      "Molecule 150 is valid\n",
      "Molecule 151 is valid\n",
      "Molecule 152 is valid\n",
      "Molecule 153 is valid\n",
      "Molecule 154 is valid\n",
      "Molecule 155 is valid\n",
      "Molecule 156 is valid\n",
      "Molecule 157 is valid\n",
      "Molecule 158 is valid\n",
      "Molecule 159 is valid\n",
      "Molecule 160 is valid\n",
      "Molecule 161 is valid\n",
      "Molecule 162 is valid\n",
      "Molecule 163 is valid\n",
      "Molecule 164 is valid\n",
      "Molecule 165 is valid\n",
      "Molecule 166 is valid\n",
      "Molecule 167 is valid\n",
      "Molecule 168 is valid\n",
      "Molecule 169 is valid\n",
      "Molecule 170 is valid\n",
      "Molecule 171 is valid\n",
      "Molecule 172 is valid\n",
      "Molecule 173 is valid\n",
      "Molecule 174 is valid\n",
      "Molecule 175 is valid\n",
      "Molecule 176 is valid\n",
      "Molecule 177 is valid\n",
      "Molecule 178 is valid\n",
      "Molecule 179 is valid\n",
      "Molecule 180 is valid\n",
      "Molecule 181 is valid\n",
      "Molecule 182 is valid\n",
      "Molecule 183 is valid\n",
      "Molecule 184 is valid\n",
      "Molecule 185 is valid\n",
      "Molecule 186 is valid\n",
      "Molecule 187 is valid\n",
      "Molecule 188 is valid\n",
      "Molecule 189 is valid\n",
      "Molecule 190 is valid\n",
      "Molecule 191 is valid\n",
      "Molecule 192 is valid\n",
      "Molecule 193 is valid\n",
      "Molecule 194 is valid\n",
      "Molecule 195 is valid\n",
      "Molecule 196 is valid\n",
      "Molecule 197 is valid\n",
      "Molecule 198 is valid\n",
      "Molecule 199 is valid\n",
      "Molecule 200 is valid\n",
      "Molecule 201 is valid\n",
      "Molecule 202 is valid\n",
      "Molecule 203 is valid\n",
      "Molecule 204 is valid\n",
      "Molecule 205 is valid\n",
      "Molecule 206 is valid\n",
      "Molecule 207 is valid\n",
      "Molecule 208 is valid\n",
      "Molecule 209 is valid\n",
      "Molecule 210 is valid\n",
      "Molecule 211 is valid\n",
      "Molecule 212 is valid\n"
     ]
    }
   ],
   "source": [
    "from rdkit import Chem\n",
    "\n",
    "with open(\"output_3D.sdf\", \"r\") as f:\n",
    "    suppl = Chem.SDMolSupplier(f.name)\n",
    "    for i, mol in enumerate(suppl):\n",
    "        if mol is None:\n",
    "            print(f\"Error in molecule {i+1}\")\n",
    "        else:\n",
    "            print(f\"Molecule {i+1} is valid\")"
   ]
  },
  {
   "cell_type": "code",
   "execution_count": 10,
   "metadata": {},
   "outputs": [
    {
     "name": "stdout",
     "output_type": "stream",
     "text": [
      "Converting ligands to PDBQT...\n"
     ]
    },
    {
     "name": "stderr",
     "output_type": "stream",
     "text": [
      "100%|██████████| 212/212 [00:20<00:00, 10.12it/s]"
     ]
    },
    {
     "name": "stdout",
     "output_type": "stream",
     "text": [
      "\n",
      "Preparation Summary:\n",
      "total_ligands: 212\n",
      "successful_ligands: 212\n",
      "failed_ligands: 0\n"
     ]
    },
    {
     "name": "stderr",
     "output_type": "stream",
     "text": [
      "\n"
     ]
    }
   ],
   "source": [
    "import os\n",
    "import subprocess\n",
    "from pathlib import Path\n",
    "from rdkit import Chem\n",
    "from tqdm import tqdm\n",
    "\n",
    "class OpenBabelPrep:\n",
    "    def __init__(self, sdf_path, output_dir):\n",
    "        self.sdf_path = Path(sdf_path)\n",
    "        self.output_dir = Path(output_dir)\n",
    "        self.output_dir.mkdir(parents=True, exist_ok=True)\n",
    "        self.ligand_dir = self.output_dir / \"ligands2\"\n",
    "        self.ligand_dir.mkdir(exist_ok=True)\n",
    "    \n",
    "    def prepare_ligand(self, mol, idx):\n",
    "        \"\"\"Prepare ligand using Open Babel command line\"\"\"\n",
    "        output_pdbqt = self.ligand_dir / f\"ligand_{idx}.pdbqt\"\n",
    "        \n",
    "        temp_sdf = self.output_dir / f\"temp_{idx}.sdf\"\n",
    "        try:\n",
    "            writer = Chem.SDWriter(str(temp_sdf))\n",
    "            writer.write(mol)\n",
    "            writer.close()\n",
    "            cmd = [\n",
    "                \"obabel\",\n",
    "                \"-isdf\", str(temp_sdf),\n",
    "                \"-opdbqt\", \"-O\", str(output_pdbqt),\n",
    "                \"-p\", \"7.4\",\n",
    "                \"--partialcharge\", \"gasteiger\",\n",
    "                \"-h\"\n",
    "            ]\n",
    "            \n",
    "            result = subprocess.run(cmd, capture_output=True, text=True)\n",
    "            \n",
    "            temp_sdf.unlink()\n",
    "            \n",
    "            if result.returncode != 0:\n",
    "                print(f\"Error for ligand_{idx}: {result.stderr}\")\n",
    "                return False\n",
    "            return True\n",
    "        except Exception as e:\n",
    "            print(f\"Failed to prepare ligand_{idx}: {str(e)}\")\n",
    "            if temp_sdf.exists():\n",
    "                temp_sdf.unlink()\n",
    "            return False\n",
    "    \n",
    "    def run_preparation(self):\n",
    "        \"\"\"Run the ligand preparation pipeline\"\"\"\n",
    "        print(\"Converting ligands to PDBQT...\")\n",
    "        ligand_results = []\n",
    "        suppl = Chem.SDMolSupplier(str(self.sdf_path))\n",
    "        for idx, mol in enumerate(tqdm(suppl)):\n",
    "            if mol is not None:\n",
    "                for atom in mol.GetAtoms():\n",
    "                    if atom.GetAtomicNum() == 5:  \n",
    "                        atom.SetAtomicNum(6)  \n",
    "                \n",
    "                success = self.prepare_ligand(mol, idx)\n",
    "                ligand_results.append({\n",
    "                    'ligand': f\"ligand_{idx}\",\n",
    "                    'success': success\n",
    "                })\n",
    "        \n",
    "        summary = {\n",
    "            'total_ligands': len(ligand_results),\n",
    "            'successful_ligands': sum(1 for r in ligand_results if r['success']),\n",
    "            'failed_ligands': sum(1 for r in ligand_results if not r['success'])\n",
    "        }\n",
    "        \n",
    "        return summary\n",
    "\n",
    "if __name__ == \"__main__\":\n",
    "    sdf_path = \"/Users/andreayang/analog-gnn/benchmarking/output_3d.sdf\"\n",
    "    output_dir = \"/Users/andreayang/analog-gnn/benchmarking/compounds\"\n",
    "    \n",
    "    prep = OpenBabelPrep(sdf_path, output_dir)\n",
    "    summary = prep.run_preparation()\n",
    "    \n",
    "    print(\"\\nPreparation Summary:\")\n",
    "    for key, value in summary.items():\n",
    "        print(f\"{key}: {value}\")"
   ]
  },
  {
   "cell_type": "code",
   "execution_count": 13,
   "metadata": {},
   "outputs": [
    {
     "name": "stdout",
     "output_type": "stream",
     "text": [
      "Already processed 296 proteins.\n"
     ]
    }
   ],
   "source": [
    "from pathlib import Path\n",
    "\n",
    "output_dir = Path(\"/Users/andreayang/analog-gnn/benchmarking/compounds/proteins/\")\n",
    "completed_proteins = {f.stem for f in output_dir.glob(\"*.pdbqt\")} \n",
    "\n",
    "print(f\"Already processed {len(completed_proteins)} proteins.\")\n"
   ]
  },
  {
   "cell_type": "code",
   "execution_count": 14,
   "metadata": {},
   "outputs": [
    {
     "name": "stdout",
     "output_type": "stream",
     "text": [
      "\n",
      "Preparing 296 proteins...\n"
     ]
    },
    {
     "name": "stderr",
     "output_type": "stream",
     "text": [
      "  0%|          | 1/296 [00:00<00:31,  9.51it/s]"
     ]
    },
    {
     "name": "stdout",
     "output_type": "stream",
     "text": [
      "Skipping P06612.pdb (already processed)\n",
      "Skipping P0A6Q6.pdb (already processed)\n"
     ]
    },
    {
     "name": "stderr",
     "output_type": "stream",
     "text": [
      "  1%|          | 3/296 [00:00<00:30,  9.47it/s]"
     ]
    },
    {
     "name": "stdout",
     "output_type": "stream",
     "text": [
      "Skipping P0AD65.pdb (already processed)\n",
      "Skipping P0AAI9.pdb (already processed)\n"
     ]
    },
    {
     "name": "stderr",
     "output_type": "stream",
     "text": [
      "  2%|▏         | 5/296 [00:00<00:30,  9.56it/s]"
     ]
    },
    {
     "name": "stdout",
     "output_type": "stream",
     "text": [
      "Skipping P08373.pdb (already processed)\n",
      "Skipping P0AF98.pdb (already processed)\n"
     ]
    },
    {
     "name": "stderr",
     "output_type": "stream",
     "text": [
      "  2%|▏         | 7/296 [00:00<00:30,  9.59it/s]"
     ]
    },
    {
     "name": "stdout",
     "output_type": "stream",
     "text": [
      "Skipping P0A6I0.pdb (already processed)\n",
      "Skipping P0AF67.pdb (already processed)\n"
     ]
    },
    {
     "name": "stderr",
     "output_type": "stream",
     "text": [
      "  3%|▎         | 9/296 [00:00<00:30,  9.49it/s]"
     ]
    },
    {
     "name": "stdout",
     "output_type": "stream",
     "text": [
      "Skipping P76256.pdb (already processed)\n",
      "Skipping P31120.pdb (already processed)\n"
     ]
    },
    {
     "name": "stderr",
     "output_type": "stream",
     "text": [
      "  4%|▎         | 11/296 [00:01<00:29,  9.55it/s]"
     ]
    },
    {
     "name": "stdout",
     "output_type": "stream",
     "text": [
      "Skipping P06968.pdb (already processed)\n",
      "Skipping P0A7W7.pdb (already processed)\n"
     ]
    },
    {
     "name": "stderr",
     "output_type": "stream",
     "text": [
      "  4%|▍         | 13/296 [00:01<00:29,  9.53it/s]"
     ]
    },
    {
     "name": "stdout",
     "output_type": "stream",
     "text": [
      "Skipping P0A7V3.pdb (already processed)\n",
      "Skipping P0AEK4.pdb (already processed)\n"
     ]
    },
    {
     "name": "stderr",
     "output_type": "stream",
     "text": [
      "  5%|▌         | 15/296 [00:01<00:29,  9.47it/s]"
     ]
    },
    {
     "name": "stdout",
     "output_type": "stream",
     "text": [
      "Skipping P0AB89.pdb (already processed)\n",
      "Skipping P06983.pdb (already processed)\n"
     ]
    },
    {
     "name": "stderr",
     "output_type": "stream",
     "text": [
      "  6%|▌         | 17/296 [00:01<00:29,  9.61it/s]"
     ]
    },
    {
     "name": "stdout",
     "output_type": "stream",
     "text": [
      "Skipping P0A7C2.pdb (already processed)\n",
      "Skipping P52097.pdb (already processed)\n"
     ]
    },
    {
     "name": "stderr",
     "output_type": "stream",
     "text": [
      "  6%|▋         | 19/296 [00:01<00:29,  9.53it/s]"
     ]
    },
    {
     "name": "stdout",
     "output_type": "stream",
     "text": [
      "Skipping P0A8J2.pdb (already processed)\n",
      "Skipping P04951.pdb (already processed)\n"
     ]
    },
    {
     "name": "stderr",
     "output_type": "stream",
     "text": [
      "  7%|▋         | 21/296 [00:02<00:29,  9.46it/s]"
     ]
    },
    {
     "name": "stdout",
     "output_type": "stream",
     "text": [
      "Skipping P0AC02.pdb (already processed)\n",
      "Skipping P62395.pdb (already processed)\n"
     ]
    },
    {
     "name": "stderr",
     "output_type": "stream",
     "text": [
      "  8%|▊         | 23/296 [00:02<00:28,  9.54it/s]"
     ]
    },
    {
     "name": "stdout",
     "output_type": "stream",
     "text": [
      "Skipping P68679.pdb (already processed)\n",
      "Skipping P0A6P1.pdb (already processed)\n"
     ]
    },
    {
     "name": "stderr",
     "output_type": "stream",
     "text": [
      "  8%|▊         | 25/296 [00:02<00:28,  9.45it/s]"
     ]
    },
    {
     "name": "stdout",
     "output_type": "stream",
     "text": [
      "Skipping P25745.pdb (already processed)\n",
      "Skipping P0A6I3.pdb (already processed)\n"
     ]
    },
    {
     "name": "stderr",
     "output_type": "stream",
     "text": [
      "  9%|▉         | 27/296 [00:02<00:28,  9.44it/s]"
     ]
    },
    {
     "name": "stdout",
     "output_type": "stream",
     "text": [
      "Skipping P0ADY3.pdb (already processed)\n",
      "Skipping P09126.pdb (already processed)\n"
     ]
    },
    {
     "name": "stderr",
     "output_type": "stream",
     "text": [
      " 10%|▉         | 29/296 [00:03<00:28,  9.45it/s]"
     ]
    },
    {
     "name": "stdout",
     "output_type": "stream",
     "text": [
      "Skipping P61517.pdb (already processed)\n",
      "Skipping P0A780.pdb (already processed)\n"
     ]
    },
    {
     "name": "stderr",
     "output_type": "stream",
     "text": [
      " 10%|█         | 31/296 [00:03<00:28,  9.41it/s]"
     ]
    },
    {
     "name": "stdout",
     "output_type": "stream",
     "text": [
      "Skipping P42641.pdb (already processed)\n",
      "Skipping P0A9X4.pdb (already processed)\n"
     ]
    },
    {
     "name": "stderr",
     "output_type": "stream",
     "text": [
      " 11%|█         | 33/296 [00:03<00:27,  9.48it/s]"
     ]
    },
    {
     "name": "stdout",
     "output_type": "stream",
     "text": [
      "Skipping P0AEF0.pdb (already processed)\n",
      "Skipping P61714.pdb (already processed)\n"
     ]
    },
    {
     "name": "stderr",
     "output_type": "stream",
     "text": [
      " 12%|█▏        | 35/296 [00:03<00:27,  9.56it/s]"
     ]
    },
    {
     "name": "stdout",
     "output_type": "stream",
     "text": [
      "Skipping P0A7V0.pdb (already processed)\n",
      "Skipping P60422.pdb (already processed)\n"
     ]
    },
    {
     "name": "stderr",
     "output_type": "stream",
     "text": [
      " 12%|█▎        | 37/296 [00:03<00:27,  9.51it/s]"
     ]
    },
    {
     "name": "stdout",
     "output_type": "stream",
     "text": [
      "Skipping P15042.pdb (already processed)\n",
      "Skipping P22188.pdb (already processed)\n"
     ]
    },
    {
     "name": "stderr",
     "output_type": "stream",
     "text": [
      " 13%|█▎        | 39/296 [00:04<00:26,  9.56it/s]"
     ]
    },
    {
     "name": "stdout",
     "output_type": "stream",
     "text": [
      "Skipping P0A9A6.pdb (already processed)\n",
      "Skipping P0A7A9.pdb (already processed)\n"
     ]
    },
    {
     "name": "stderr",
     "output_type": "stream",
     "text": [
      " 14%|█▍        | 41/296 [00:04<00:26,  9.50it/s]"
     ]
    },
    {
     "name": "stdout",
     "output_type": "stream",
     "text": [
      "Skipping P17443.pdb (already processed)\n",
      "Skipping P0A805.pdb (already processed)\n"
     ]
    },
    {
     "name": "stderr",
     "output_type": "stream",
     "text": [
      " 15%|█▍        | 43/296 [00:04<00:26,  9.40it/s]"
     ]
    },
    {
     "name": "stdout",
     "output_type": "stream",
     "text": [
      "Skipping P60546.pdb (already processed)\n",
      "Skipping P0A8K1.pdb (already processed)\n"
     ]
    },
    {
     "name": "stderr",
     "output_type": "stream",
     "text": [
      " 15%|█▌        | 45/296 [00:04<00:26,  9.43it/s]"
     ]
    },
    {
     "name": "stdout",
     "output_type": "stream",
     "text": [
      "Skipping P0A6F9.pdb (already processed)\n",
      "Skipping P0A6I6.pdb (already processed)\n"
     ]
    },
    {
     "name": "stderr",
     "output_type": "stream",
     "text": [
      " 16%|█▌        | 47/296 [00:04<00:26,  9.57it/s]"
     ]
    },
    {
     "name": "stdout",
     "output_type": "stream",
     "text": [
      "Skipping P0AGK1.pdb (already processed)\n",
      "Skipping P0A752.pdb (already processed)\n"
     ]
    },
    {
     "name": "stderr",
     "output_type": "stream",
     "text": [
      " 17%|█▋        | 49/296 [00:05<00:25,  9.60it/s]"
     ]
    },
    {
     "name": "stdout",
     "output_type": "stream",
     "text": [
      "Skipping P21888.pdb (already processed)\n",
      "Skipping P60624.pdb (already processed)\n"
     ]
    },
    {
     "name": "stderr",
     "output_type": "stream",
     "text": [
      " 17%|█▋        | 51/296 [00:05<00:25,  9.51it/s]"
     ]
    },
    {
     "name": "stdout",
     "output_type": "stream",
     "text": [
      "Skipping P0AB71.pdb (already processed)\n",
      "Skipping P0A7W1.pdb (already processed)\n"
     ]
    },
    {
     "name": "stderr",
     "output_type": "stream",
     "text": [
      " 18%|█▊        | 53/296 [00:05<00:25,  9.46it/s]"
     ]
    },
    {
     "name": "stdout",
     "output_type": "stream",
     "text": [
      "Skipping P77173.pdb (already processed)\n",
      "Skipping P75957.pdb (already processed)\n"
     ]
    },
    {
     "name": "stderr",
     "output_type": "stream",
     "text": [
      " 19%|█▊        | 55/296 [00:05<00:25,  9.51it/s]"
     ]
    },
    {
     "name": "stdout",
     "output_type": "stream",
     "text": [
      "Skipping P0AEK2.pdb (already processed)\n",
      "Skipping P21645.pdb (already processed)\n"
     ]
    },
    {
     "name": "stderr",
     "output_type": "stream",
     "text": [
      " 19%|█▉        | 57/296 [00:05<00:25,  9.51it/s]"
     ]
    },
    {
     "name": "stdout",
     "output_type": "stream",
     "text": [
      "Skipping P0A784.pdb (already processed)\n",
      "Skipping P21889.pdb (already processed)\n"
     ]
    },
    {
     "name": "stderr",
     "output_type": "stream",
     "text": [
      " 20%|█▉        | 59/296 [00:06<00:25,  9.47it/s]"
     ]
    },
    {
     "name": "stdout",
     "output_type": "stream",
     "text": [
      "Skipping P08200.pdb (already processed)\n",
      "Skipping P0AES4.pdb (already processed)\n"
     ]
    },
    {
     "name": "stderr",
     "output_type": "stream",
     "text": [
      " 21%|██        | 61/296 [00:06<00:24,  9.52it/s]"
     ]
    },
    {
     "name": "stdout",
     "output_type": "stream",
     "text": [
      "Skipping P62620.pdb (already processed)\n",
      "Skipping P0A800.pdb (already processed)\n"
     ]
    },
    {
     "name": "stderr",
     "output_type": "stream",
     "text": [
      " 21%|██▏       | 63/296 [00:06<00:24,  9.49it/s]"
     ]
    },
    {
     "name": "stdout",
     "output_type": "stream",
     "text": [
      "Skipping P0ADY7.pdb (already processed)\n",
      "Skipping P0C018.pdb (already processed)\n"
     ]
    },
    {
     "name": "stderr",
     "output_type": "stream",
     "text": [
      " 22%|██▏       | 65/296 [00:06<00:24,  9.54it/s]"
     ]
    },
    {
     "name": "stdout",
     "output_type": "stream",
     "text": [
      "Skipping P0A6P5.pdb (already processed)\n",
      "Skipping P0A6Q3.pdb (already processed)\n"
     ]
    },
    {
     "name": "stderr",
     "output_type": "stream",
     "text": [
      " 23%|██▎       | 67/296 [00:07<00:24,  9.50it/s]"
     ]
    },
    {
     "name": "stdout",
     "output_type": "stream",
     "text": [
      "Skipping P0A6P7.pdb (already processed)\n",
      "Skipping P23871.pdb (already processed)\n"
     ]
    },
    {
     "name": "stderr",
     "output_type": "stream",
     "text": [
      " 23%|██▎       | 69/296 [00:07<00:23,  9.57it/s]"
     ]
    },
    {
     "name": "stdout",
     "output_type": "stream",
     "text": [
      "Skipping P0AA10.pdb (already processed)\n",
      "Skipping P0AES6.pdb (already processed)\n"
     ]
    },
    {
     "name": "stderr",
     "output_type": "stream",
     "text": [
      " 24%|██▍       | 71/296 [00:07<00:23,  9.51it/s]"
     ]
    },
    {
     "name": "stdout",
     "output_type": "stream",
     "text": [
      "Skipping P0A7Y8.pdb (already processed)\n",
      "Skipping P0A7Z4.pdb (already processed)\n"
     ]
    },
    {
     "name": "stderr",
     "output_type": "stream",
     "text": [
      " 25%|██▍       | 73/296 [00:07<00:23,  9.58it/s]"
     ]
    },
    {
     "name": "stdout",
     "output_type": "stream",
     "text": [
      "Skipping P0A7L8.pdb (already processed)\n",
      "Skipping P0AGG0.pdb (already processed)\n"
     ]
    },
    {
     "name": "stderr",
     "output_type": "stream",
     "text": [
      " 25%|██▌       | 75/296 [00:07<00:23,  9.55it/s]"
     ]
    },
    {
     "name": "stdout",
     "output_type": "stream",
     "text": [
      "Skipping P07118.pdb (already processed)\n",
      "Skipping P0A7B3.pdb (already processed)\n"
     ]
    },
    {
     "name": "stderr",
     "output_type": "stream",
     "text": [
      " 26%|██▌       | 77/296 [00:08<00:23,  9.49it/s]"
     ]
    },
    {
     "name": "stdout",
     "output_type": "stream",
     "text": [
      "Skipping P0A988.pdb (already processed)\n",
      "Skipping P62623.pdb (already processed)\n"
     ]
    },
    {
     "name": "stderr",
     "output_type": "stream",
     "text": [
      " 27%|██▋       | 79/296 [00:08<00:22,  9.45it/s]"
     ]
    },
    {
     "name": "stdout",
     "output_type": "stream",
     "text": [
      "Skipping P0A817.pdb (already processed)\n",
      "Skipping P60752.pdb (already processed)\n"
     ]
    },
    {
     "name": "stderr",
     "output_type": "stream",
     "text": [
      " 27%|██▋       | 81/296 [00:08<00:22,  9.49it/s]"
     ]
    },
    {
     "name": "stdout",
     "output_type": "stream",
     "text": [
      "Skipping P61316.pdb (already processed)\n",
      "Skipping P06616.pdb (already processed)\n"
     ]
    },
    {
     "name": "stderr",
     "output_type": "stream",
     "text": [
      " 28%|██▊       | 83/296 [00:08<00:22,  9.49it/s]"
     ]
    },
    {
     "name": "stdout",
     "output_type": "stream",
     "text": [
      "Skipping P45748.pdb (already processed)\n",
      "Skipping P02359.pdb (already processed)\n"
     ]
    },
    {
     "name": "stderr",
     "output_type": "stream",
     "text": [
      " 29%|██▊       | 85/296 [00:08<00:22,  9.57it/s]"
     ]
    },
    {
     "name": "stdout",
     "output_type": "stream",
     "text": [
      "Skipping P0A6A8.pdb (already processed)\n",
      "Skipping P60906.pdb (already processed)\n"
     ]
    },
    {
     "name": "stderr",
     "output_type": "stream",
     "text": [
      " 29%|██▉       | 87/296 [00:09<00:22,  9.48it/s]"
     ]
    },
    {
     "name": "stdout",
     "output_type": "stream",
     "text": [
      "Skipping P00957.pdb (already processed)\n",
      "Skipping P0A7R9.pdb (already processed)\n"
     ]
    },
    {
     "name": "stderr",
     "output_type": "stream",
     "text": [
      " 30%|███       | 89/296 [00:09<00:21,  9.47it/s]"
     ]
    },
    {
     "name": "stdout",
     "output_type": "stream",
     "text": [
      "Skipping P39286.pdb (already processed)\n",
      "Skipping P06710.pdb (already processed)\n"
     ]
    },
    {
     "name": "stderr",
     "output_type": "stream",
     "text": [
      " 31%|███       | 91/296 [00:09<00:21,  9.46it/s]"
     ]
    },
    {
     "name": "stdout",
     "output_type": "stream",
     "text": [
      "Skipping P16926.pdb (already processed)\n",
      "Skipping P0AG59.pdb (already processed)\n"
     ]
    },
    {
     "name": "stderr",
     "output_type": "stream",
     "text": [
      " 31%|███▏      | 93/296 [00:09<00:21,  9.42it/s]"
     ]
    },
    {
     "name": "stdout",
     "output_type": "stream",
     "text": [
      "Skipping P0A722.pdb (already processed)\n",
      "Skipping P00956.pdb (already processed)\n"
     ]
    },
    {
     "name": "stderr",
     "output_type": "stream",
     "text": [
      " 32%|███▏      | 95/296 [00:09<00:21,  9.47it/s]"
     ]
    },
    {
     "name": "stdout",
     "output_type": "stream",
     "text": [
      "Skipping P18843.pdb (already processed)\n",
      "Skipping P0A8L1.pdb (already processed)\n"
     ]
    },
    {
     "name": "stderr",
     "output_type": "stream",
     "text": [
      " 33%|███▎      | 97/296 [00:10<00:21,  9.42it/s]"
     ]
    },
    {
     "name": "stdout",
     "output_type": "stream",
     "text": [
      "Skipping P0ADG4.pdb (already processed)\n",
      "Skipping P0AC75.pdb (already processed)\n"
     ]
    },
    {
     "name": "stderr",
     "output_type": "stream",
     "text": [
      " 33%|███▎      | 99/296 [00:10<00:20,  9.47it/s]"
     ]
    },
    {
     "name": "stdout",
     "output_type": "stream",
     "text": [
      "Skipping P02358.pdb (already processed)\n",
      "Skipping P0A8T7.pdb (already processed)\n"
     ]
    },
    {
     "name": "stderr",
     "output_type": "stream",
     "text": [
      " 34%|███▍      | 101/296 [00:10<00:20,  9.41it/s]"
     ]
    },
    {
     "name": "stdout",
     "output_type": "stream",
     "text": [
      "Skipping P60293.pdb (already processed)\n",
      "Skipping P0A898.pdb (already processed)\n"
     ]
    },
    {
     "name": "stderr",
     "output_type": "stream",
     "text": [
      " 35%|███▍      | 103/296 [00:10<00:20,  9.45it/s]"
     ]
    },
    {
     "name": "stdout",
     "output_type": "stream",
     "text": [
      "Skipping P0A873.pdb (already processed)\n",
      "Skipping P00954.pdb (already processed)\n"
     ]
    },
    {
     "name": "stderr",
     "output_type": "stream",
     "text": [
      " 35%|███▌      | 105/296 [00:11<00:20,  9.49it/s]"
     ]
    },
    {
     "name": "stdout",
     "output_type": "stream",
     "text": [
      "Skipping P0A6M8.pdb (already processed)\n",
      "Skipping P0ABS5.pdb (already processed)\n"
     ]
    },
    {
     "name": "stderr",
     "output_type": "stream",
     "text": [
      " 36%|███▌      | 107/296 [00:11<00:19,  9.52it/s]"
     ]
    },
    {
     "name": "stdout",
     "output_type": "stream",
     "text": [
      "Skipping P0A720.pdb (already processed)\n",
      "Skipping P0A7I0.pdb (already processed)\n"
     ]
    },
    {
     "name": "stderr",
     "output_type": "stream",
     "text": [
      " 37%|███▋      | 109/296 [00:11<00:19,  9.43it/s]"
     ]
    },
    {
     "name": "stdout",
     "output_type": "stream",
     "text": [
      "Skipping P0AG67.pdb (already processed)\n",
      "Skipping P0A9Q9.pdb (already processed)\n"
     ]
    },
    {
     "name": "stderr",
     "output_type": "stream",
     "text": [
      " 38%|███▊      | 111/296 [00:11<00:19,  9.41it/s]"
     ]
    },
    {
     "name": "stdout",
     "output_type": "stream",
     "text": [
      "Skipping P0A7Q6.pdb (already processed)\n",
      "Skipping P07395.pdb (already processed)\n"
     ]
    },
    {
     "name": "stderr",
     "output_type": "stream",
     "text": [
      " 38%|███▊      | 113/296 [00:11<00:19,  9.40it/s]"
     ]
    },
    {
     "name": "stdout",
     "output_type": "stream",
     "text": [
      "Skipping P0ABG1.pdb (already processed)\n",
      "Skipping P60723.pdb (already processed)\n"
     ]
    },
    {
     "name": "stderr",
     "output_type": "stream",
     "text": [
      " 39%|███▉      | 115/296 [00:12<00:19,  9.39it/s]"
     ]
    },
    {
     "name": "stdout",
     "output_type": "stream",
     "text": [
      "Skipping P08312.pdb (already processed)\n",
      "Skipping P61175.pdb (already processed)\n"
     ]
    },
    {
     "name": "stderr",
     "output_type": "stream",
     "text": [
      " 40%|███▉      | 117/296 [00:12<00:19,  9.38it/s]"
     ]
    },
    {
     "name": "stdout",
     "output_type": "stream",
     "text": [
      "Skipping P0A6W3.pdb (already processed)\n",
      "Skipping P69924.pdb (already processed)\n"
     ]
    },
    {
     "name": "stderr",
     "output_type": "stream",
     "text": [
      " 40%|████      | 119/296 [00:12<00:18,  9.46it/s]"
     ]
    },
    {
     "name": "stdout",
     "output_type": "stream",
     "text": [
      "Skipping P31554.pdb (already processed)\n",
      "Skipping P0AF16.pdb (already processed)\n"
     ]
    },
    {
     "name": "stderr",
     "output_type": "stream",
     "text": [
      " 41%|████      | 121/296 [00:12<00:18,  9.59it/s]"
     ]
    },
    {
     "name": "stdout",
     "output_type": "stream",
     "text": [
      "Skipping P0A725.pdb (already processed)\n",
      "Skipping P0ABD8.pdb (already processed)\n"
     ]
    },
    {
     "name": "stderr",
     "output_type": "stream",
     "text": [
      " 42%|████▏     | 123/296 [00:12<00:18,  9.58it/s]"
     ]
    },
    {
     "name": "stdout",
     "output_type": "stream",
     "text": [
      "Skipping P0ABG4.pdb (already processed)\n",
      "Skipping P17169.pdb (already processed)\n"
     ]
    },
    {
     "name": "stderr",
     "output_type": "stream",
     "text": [
      " 42%|████▏     | 125/296 [00:13<00:18,  9.49it/s]"
     ]
    },
    {
     "name": "stdout",
     "output_type": "stream",
     "text": [
      "Skipping P0AG63.pdb (already processed)\n",
      "Skipping P11875.pdb (already processed)\n"
     ]
    },
    {
     "name": "stderr",
     "output_type": "stream",
     "text": [
      " 43%|████▎     | 127/296 [00:13<00:17,  9.59it/s]"
     ]
    },
    {
     "name": "stdout",
     "output_type": "stream",
     "text": [
      "Skipping P0AFG0.pdb (already processed)\n",
      "Skipping P0A8M3.pdb (already processed)\n"
     ]
    },
    {
     "name": "stderr",
     "output_type": "stream",
     "text": [
      " 44%|████▎     | 129/296 [00:13<00:17,  9.45it/s]"
     ]
    },
    {
     "name": "stdout",
     "output_type": "stream",
     "text": [
      "Skipping P16659.pdb (already processed)\n",
      "Skipping P0AFF6.pdb (already processed)\n"
     ]
    },
    {
     "name": "stderr",
     "output_type": "stream",
     "text": [
      " 44%|████▍     | 131/296 [00:13<00:17,  9.52it/s]"
     ]
    },
    {
     "name": "stdout",
     "output_type": "stream",
     "text": [
      "Skipping P0A7D1.pdb (already processed)\n",
      "Skipping P0A7E5.pdb (already processed)\n"
     ]
    },
    {
     "name": "stderr",
     "output_type": "stream",
     "text": [
      " 45%|████▍     | 133/296 [00:14<00:17,  9.47it/s]"
     ]
    },
    {
     "name": "stdout",
     "output_type": "stream",
     "text": [
      "Skipping P0AGA2.pdb (already processed)\n",
      "Skipping P07813.pdb (already processed)\n"
     ]
    },
    {
     "name": "stderr",
     "output_type": "stream",
     "text": [
      " 46%|████▌     | 135/296 [00:14<00:16,  9.52it/s]"
     ]
    },
    {
     "name": "stdout",
     "output_type": "stream",
     "text": [
      "Skipping P0A7P5.pdb (already processed)\n",
      "Skipping P0ABG7.pdb (already processed)\n"
     ]
    },
    {
     "name": "stderr",
     "output_type": "stream",
     "text": [
      " 46%|████▋     | 137/296 [00:14<00:16,  9.52it/s]"
     ]
    },
    {
     "name": "stdout",
     "output_type": "stream",
     "text": [
      "Skipping P0A7S9.pdb (already processed)\n",
      "Skipping P0A7I7.pdb (already processed)\n"
     ]
    },
    {
     "name": "stderr",
     "output_type": "stream",
     "text": [
      " 47%|████▋     | 139/296 [00:14<00:16,  9.54it/s]"
     ]
    },
    {
     "name": "stdout",
     "output_type": "stream",
     "text": [
      "Skipping P0AG48.pdb (already processed)\n",
      "Skipping P77488.pdb (already processed)\n"
     ]
    },
    {
     "name": "stderr",
     "output_type": "stream",
     "text": [
      " 48%|████▊     | 141/296 [00:14<00:16,  9.60it/s]"
     ]
    },
    {
     "name": "stdout",
     "output_type": "stream",
     "text": [
      "Skipping P0A8M0.pdb (already processed)\n",
      "Skipping P02413.pdb (already processed)\n"
     ]
    },
    {
     "name": "stderr",
     "output_type": "stream",
     "text": [
      " 48%|████▊     | 143/296 [00:15<00:15,  9.59it/s]"
     ]
    },
    {
     "name": "stdout",
     "output_type": "stream",
     "text": [
      "Skipping P06136.pdb (already processed)\n",
      "Skipping P0AD27.pdb (already processed)\n"
     ]
    },
    {
     "name": "stderr",
     "output_type": "stream",
     "text": [
      " 49%|████▉     | 145/296 [00:15<00:15,  9.60it/s]"
     ]
    },
    {
     "name": "stdout",
     "output_type": "stream",
     "text": [
      "Skipping P17952.pdb (already processed)\n",
      "Skipping P00962.pdb (already processed)\n"
     ]
    },
    {
     "name": "stderr",
     "output_type": "stream",
     "text": [
      " 50%|████▉     | 147/296 [00:15<00:15,  9.54it/s]"
     ]
    },
    {
     "name": "stdout",
     "output_type": "stream",
     "text": [
      "Skipping P0AAB4.pdb (already processed)\n",
      "Skipping P0A7E9.pdb (already processed)\n"
     ]
    },
    {
     "name": "stderr",
     "output_type": "stream",
     "text": [
      " 50%|█████     | 149/296 [00:15<00:15,  9.52it/s]"
     ]
    },
    {
     "name": "stdout",
     "output_type": "stream",
     "text": [
      "Skipping P0AG51.pdb (already processed)\n",
      "Skipping P0A7K2.pdb (already processed)\n"
     ]
    },
    {
     "name": "stderr",
     "output_type": "stream",
     "text": [
      " 51%|█████     | 151/296 [00:15<00:15,  9.64it/s]"
     ]
    },
    {
     "name": "stdout",
     "output_type": "stream",
     "text": [
      "Skipping P28630.pdb (already processed)\n",
      "Skipping P0ABH4.pdb (already processed)\n"
     ]
    },
    {
     "name": "stderr",
     "output_type": "stream",
     "text": [
      " 52%|█████▏    | 153/296 [00:16<00:15,  9.51it/s]"
     ]
    },
    {
     "name": "stdout",
     "output_type": "stream",
     "text": [
      "Skipping P28631.pdb (already processed)\n",
      "Skipping P00803.pdb (already processed)\n"
     ]
    },
    {
     "name": "stderr",
     "output_type": "stream",
     "text": [
      " 52%|█████▏    | 155/296 [00:16<00:14,  9.64it/s]"
     ]
    },
    {
     "name": "stdout",
     "output_type": "stream",
     "text": [
      "Skipping P0A7J7.pdb (already processed)\n",
      "Skipping P0AG44.pdb (already processed)\n"
     ]
    },
    {
     "name": "stderr",
     "output_type": "stream",
     "text": [
      " 53%|█████▎    | 157/296 [00:16<00:14,  9.51it/s]"
     ]
    },
    {
     "name": "stdout",
     "output_type": "stream",
     "text": [
      "Skipping P0A717.pdb (already processed)\n",
      "Skipping P0A6A0.pdb (already processed)\n"
     ]
    },
    {
     "name": "stderr",
     "output_type": "stream",
     "text": [
      " 54%|█████▎    | 159/296 [00:16<00:14,  9.57it/s]"
     ]
    },
    {
     "name": "stdout",
     "output_type": "stream",
     "text": [
      "Skipping P0ACC3.pdb (already processed)\n",
      "Skipping P0ACC1.pdb (already processed)\n"
     ]
    },
    {
     "name": "stderr",
     "output_type": "stream",
     "text": [
      " 54%|█████▍    | 161/296 [00:16<00:14,  9.56it/s]"
     ]
    },
    {
     "name": "stdout",
     "output_type": "stream",
     "text": [
      "Skipping P24182.pdb (already processed)\n",
      "Skipping P45568.pdb (already processed)\n"
     ]
    },
    {
     "name": "stderr",
     "output_type": "stream",
     "text": [
      " 55%|█████▌    | 163/296 [00:17<00:13,  9.55it/s]"
     ]
    },
    {
     "name": "stdout",
     "output_type": "stream",
     "text": [
      "Skipping P25539.pdb (already processed)\n",
      "Skipping P22524.pdb (already processed)\n"
     ]
    },
    {
     "name": "stderr",
     "output_type": "stream",
     "text": [
      " 56%|█████▌    | 165/296 [00:17<00:13,  9.49it/s]"
     ]
    },
    {
     "name": "stdout",
     "output_type": "stream",
     "text": [
      "Skipping P14900.pdb (already processed)\n",
      "Skipping P00961.pdb (already processed)\n"
     ]
    },
    {
     "name": "stderr",
     "output_type": "stream",
     "text": [
      " 56%|█████▋    | 167/296 [00:17<00:13,  9.63it/s]"
     ]
    },
    {
     "name": "stdout",
     "output_type": "stream",
     "text": [
      "Skipping P0A715.pdb (already processed)\n",
      "Skipping P0ABQ4.pdb (already processed)\n"
     ]
    },
    {
     "name": "stderr",
     "output_type": "stream",
     "text": [
      " 57%|█████▋    | 169/296 [00:17<00:13,  9.51it/s]"
     ]
    },
    {
     "name": "stdout",
     "output_type": "stream",
     "text": [
      "Skipping P0ABD5.pdb (already processed)\n",
      "Skipping P10408.pdb (already processed)\n"
     ]
    },
    {
     "name": "stderr",
     "output_type": "stream",
     "text": [
      " 58%|█████▊    | 171/296 [00:17<00:13,  9.48it/s]"
     ]
    },
    {
     "name": "stdout",
     "output_type": "stream",
     "text": [
      "Skipping P0AG90.pdb (already processed)\n",
      "Skipping P00960.pdb (already processed)\n"
     ]
    },
    {
     "name": "stderr",
     "output_type": "stream",
     "text": [
      " 58%|█████▊    | 173/296 [00:18<00:13,  9.44it/s]"
     ]
    },
    {
     "name": "stdout",
     "output_type": "stream",
     "text": [
      "Skipping P0A8N3.pdb (already processed)\n",
      "Skipping P0A884.pdb (already processed)\n"
     ]
    },
    {
     "name": "stderr",
     "output_type": "stream",
     "text": [
      " 59%|█████▉    | 175/296 [00:18<00:12,  9.52it/s]"
     ]
    },
    {
     "name": "stdout",
     "output_type": "stream",
     "text": [
      "Skipping P0ACB4.pdb (already processed)\n",
      "Skipping P00579.pdb (already processed)\n"
     ]
    },
    {
     "name": "stderr",
     "output_type": "stream",
     "text": [
      " 60%|█████▉    | 177/296 [00:18<00:12,  9.50it/s]"
     ]
    },
    {
     "name": "stdout",
     "output_type": "stream",
     "text": [
      "Skipping P04079.pdb (already processed)\n",
      "Skipping P0A6X1.pdb (already processed)\n"
     ]
    },
    {
     "name": "stderr",
     "output_type": "stream",
     "text": [
      " 60%|██████    | 179/296 [00:18<00:12,  9.44it/s]"
     ]
    },
    {
     "name": "stdout",
     "output_type": "stream",
     "text": [
      "Skipping P0ACB0.pdb (already processed)\n",
      "Skipping P00582.pdb (already processed)\n"
     ]
    },
    {
     "name": "stderr",
     "output_type": "stream",
     "text": [
      " 61%|██████    | 181/296 [00:19<00:12,  9.41it/s]"
     ]
    },
    {
     "name": "stdout",
     "output_type": "stream",
     "text": [
      "Skipping P23830.pdb (already processed)\n",
      "Skipping P00804.pdb (already processed)\n"
     ]
    },
    {
     "name": "stderr",
     "output_type": "stream",
     "text": [
      " 62%|██████▏   | 183/296 [00:19<00:11,  9.46it/s]"
     ]
    },
    {
     "name": "stdout",
     "output_type": "stream",
     "text": [
      "Skipping P0A9Q5.pdb (already processed)\n",
      "Skipping P61949.pdb (already processed)\n"
     ]
    },
    {
     "name": "stderr",
     "output_type": "stream",
     "text": [
      " 62%|██████▎   | 185/296 [00:19<00:11,  9.51it/s]"
     ]
    },
    {
     "name": "stdout",
     "output_type": "stream",
     "text": [
      "Skipping P20083.pdb (already processed)\n",
      "Skipping P45800.pdb (already processed)\n"
     ]
    },
    {
     "name": "stderr",
     "output_type": "stream",
     "text": [
      " 63%|██████▎   | 187/296 [00:19<00:11,  9.59it/s]"
     ]
    },
    {
     "name": "stdout",
     "output_type": "stream",
     "text": [
      "Skipping P0ABF8.pdb (already processed)\n",
      "Skipping P69441.pdb (already processed)\n"
     ]
    },
    {
     "name": "stderr",
     "output_type": "stream",
     "text": [
      " 64%|██████▍   | 189/296 [00:19<00:11,  9.51it/s]"
     ]
    },
    {
     "name": "stdout",
     "output_type": "stream",
     "text": [
      "Skipping P0A7S3.pdb (already processed)\n",
      "Skipping P0A9P0.pdb (already processed)\n"
     ]
    },
    {
     "name": "stderr",
     "output_type": "stream",
     "text": [
      " 65%|██████▍   | 191/296 [00:20<00:11,  9.49it/s]"
     ]
    },
    {
     "name": "stdout",
     "output_type": "stream",
     "text": [
      "Skipping P0AEN4.pdb (already processed)\n",
      "Skipping P0A705.pdb (already processed)\n"
     ]
    },
    {
     "name": "stderr",
     "output_type": "stream",
     "text": [
      " 65%|██████▌   | 193/296 [00:20<00:10,  9.48it/s]"
     ]
    },
    {
     "name": "stdout",
     "output_type": "stream",
     "text": [
      "Skipping Q46893.pdb (already processed)\n",
      "Skipping P0ABQ0.pdb (already processed)\n"
     ]
    },
    {
     "name": "stderr",
     "output_type": "stream",
     "text": [
      " 66%|██████▌   | 195/296 [00:20<00:10,  9.52it/s]"
     ]
    },
    {
     "name": "stdout",
     "output_type": "stream",
     "text": [
      "Skipping P00959.pdb (already processed)\n",
      "Skipping P68398.pdb (already processed)\n"
     ]
    },
    {
     "name": "stderr",
     "output_type": "stream",
     "text": [
      " 67%|██████▋   | 197/296 [00:20<00:10,  9.51it/s]"
     ]
    },
    {
     "name": "stdout",
     "output_type": "stream",
     "text": [
      "Skipping P24186.pdb (already processed)\n",
      "Skipping P0AFI2.pdb (already processed)\n"
     ]
    },
    {
     "name": "stderr",
     "output_type": "stream",
     "text": [
      " 67%|██████▋   | 199/296 [00:20<00:10,  9.45it/s]"
     ]
    },
    {
     "name": "stdout",
     "output_type": "stream",
     "text": [
      "Skipping P22939.pdb (already processed)\n",
      "Skipping P0A8V2.pdb (already processed)\n"
     ]
    },
    {
     "name": "stderr",
     "output_type": "stream",
     "text": [
      " 68%|██████▊   | 201/296 [00:21<00:10,  9.47it/s]"
     ]
    },
    {
     "name": "stdout",
     "output_type": "stream",
     "text": [
      "Skipping P0ACC7.pdb (already processed)\n",
      "Skipping P07013.pdb (already processed)\n"
     ]
    },
    {
     "name": "stderr",
     "output_type": "stream",
     "text": [
      " 69%|██████▊   | 203/296 [00:21<00:09,  9.57it/s]"
     ]
    },
    {
     "name": "stdout",
     "output_type": "stream",
     "text": [
      "Skipping P27300.pdb (already processed)\n",
      "Skipping P0A707.pdb (already processed)\n"
     ]
    },
    {
     "name": "stderr",
     "output_type": "stream",
     "text": [
      " 69%|██████▉   | 205/296 [00:21<00:09,  9.54it/s]"
     ]
    },
    {
     "name": "stdout",
     "output_type": "stream",
     "text": [
      "Skipping P0AG40.pdb (already processed)\n",
      "Skipping P0A7J3.pdb (already processed)\n"
     ]
    },
    {
     "name": "stderr",
     "output_type": "stream",
     "text": [
      " 70%|██████▉   | 207/296 [00:21<00:09,  9.49it/s]"
     ]
    },
    {
     "name": "stdout",
     "output_type": "stream",
     "text": [
      "Skipping P0ABH0.pdb (already processed)\n",
      "Skipping P06709.pdb (already processed)\n"
     ]
    },
    {
     "name": "stderr",
     "output_type": "stream",
     "text": [
      " 71%|███████   | 209/296 [00:21<00:09,  9.53it/s]"
     ]
    },
    {
     "name": "stdout",
     "output_type": "stream",
     "text": [
      "Skipping P0A7R5.pdb (already processed)\n",
      "Skipping P60472.pdb (already processed)\n"
     ]
    },
    {
     "name": "stderr",
     "output_type": "stream",
     "text": [
      " 71%|███████▏  | 211/296 [00:22<00:08,  9.45it/s]"
     ]
    },
    {
     "name": "stdout",
     "output_type": "stream",
     "text": [
      "Skipping P24224.pdb (already processed)\n",
      "Skipping P0ABJ9.pdb (already processed)\n"
     ]
    },
    {
     "name": "stderr",
     "output_type": "stream",
     "text": [
      " 72%|███████▏  | 213/296 [00:22<00:08,  9.52it/s]"
     ]
    },
    {
     "name": "stdout",
     "output_type": "stream",
     "text": [
      "Skipping P0A7K6.pdb (already processed)\n",
      "Skipping P0AG55.pdb (already processed)\n"
     ]
    },
    {
     "name": "stderr",
     "output_type": "stream",
     "text": [
      " 73%|███████▎  | 215/296 [00:22<00:08,  9.56it/s]"
     ]
    },
    {
     "name": "stdout",
     "output_type": "stream",
     "text": [
      "Skipping P0AGB6.pdb (already processed)\n",
      "Skipping P0AG96.pdb (already processed)\n"
     ]
    },
    {
     "name": "stderr",
     "output_type": "stream",
     "text": [
      " 73%|███████▎  | 217/296 [00:22<00:08,  9.53it/s]"
     ]
    },
    {
     "name": "stdout",
     "output_type": "stream",
     "text": [
      "Skipping P0A6L2.pdb (already processed)\n",
      "Skipping P22523.pdb (already processed)\n"
     ]
    },
    {
     "name": "stderr",
     "output_type": "stream",
     "text": [
      " 74%|███████▍  | 219/296 [00:23<00:08,  9.50it/s]"
     ]
    },
    {
     "name": "stdout",
     "output_type": "stream",
     "text": [
      "Skipping P11880.pdb (already processed)\n",
      "Skipping P69913.pdb (already processed)\n"
     ]
    },
    {
     "name": "stderr",
     "output_type": "stream",
     "text": [
      " 75%|███████▍  | 221/296 [00:23<00:07,  9.48it/s]"
     ]
    },
    {
     "name": "stdout",
     "output_type": "stream",
     "text": [
      "Skipping P07012.pdb (already processed)\n",
      "Skipping P0ACB2.pdb (already processed)\n"
     ]
    },
    {
     "name": "stderr",
     "output_type": "stream",
     "text": [
      " 75%|███████▌  | 223/296 [00:23<00:07,  9.66it/s]"
     ]
    },
    {
     "name": "stdout",
     "output_type": "stream",
     "text": [
      "Skipping P25714.pdb (already processed)\n",
      "Skipping P0AFU8.pdb (already processed)\n"
     ]
    },
    {
     "name": "stderr",
     "output_type": "stream",
     "text": [
      " 76%|███████▌  | 225/296 [00:23<00:07,  9.63it/s]"
     ]
    },
    {
     "name": "stdout",
     "output_type": "stream",
     "text": [
      "Skipping P0A6S7.pdb (already processed)\n",
      "Skipping P23882.pdb (already processed)\n"
     ]
    },
    {
     "name": "stderr",
     "output_type": "stream",
     "text": [
      " 77%|███████▋  | 227/296 [00:23<00:07,  9.53it/s]"
     ]
    },
    {
     "name": "stdout",
     "output_type": "stream",
     "text": [
      "Skipping P0A6I9.pdb (already processed)\n",
      "Skipping P10441.pdb (already processed)\n"
     ]
    },
    {
     "name": "stderr",
     "output_type": "stream",
     "text": [
      " 77%|███████▋  | 229/296 [00:24<00:07,  9.57it/s]"
     ]
    },
    {
     "name": "stdout",
     "output_type": "stream",
     "text": [
      "Skipping P0A749.pdb (already processed)\n",
      "Skipping P0A7T3.pdb (already processed)\n"
     ]
    },
    {
     "name": "stderr",
     "output_type": "stream",
     "text": [
      " 78%|███████▊  | 231/296 [00:24<00:06,  9.51it/s]"
     ]
    },
    {
     "name": "stdout",
     "output_type": "stream",
     "text": [
      "Skipping P0A7U7.pdb (already processed)\n",
      "Skipping P0AE18.pdb (already processed)\n"
     ]
    },
    {
     "name": "stderr",
     "output_type": "stream",
     "text": [
      " 79%|███████▊  | 233/296 [00:24<00:06,  9.47it/s]"
     ]
    },
    {
     "name": "stdout",
     "output_type": "stream",
     "text": [
      "Skipping P04805.pdb (already processed)\n",
      "Skipping P06961.pdb (already processed)\n"
     ]
    },
    {
     "name": "stderr",
     "output_type": "stream",
     "text": [
      " 79%|███████▉  | 235/296 [00:24<00:06,  9.60it/s]"
     ]
    },
    {
     "name": "stdout",
     "output_type": "stream",
     "text": [
      "Skipping P75958.pdb (already processed)\n",
      "Skipping P0AEH1.pdb (already processed)\n"
     ]
    },
    {
     "name": "stderr",
     "output_type": "stream",
     "text": [
      " 80%|████████  | 237/296 [00:24<00:06,  9.61it/s]"
     ]
    },
    {
     "name": "stdout",
     "output_type": "stream",
     "text": [
      "Skipping P0A953.pdb (already processed)\n",
      "Skipping P0ADZ4.pdb (already processed)\n"
     ]
    },
    {
     "name": "stderr",
     "output_type": "stream",
     "text": [
      " 81%|████████  | 239/296 [00:25<00:05,  9.53it/s]"
     ]
    },
    {
     "name": "stdout",
     "output_type": "stream",
     "text": [
      "Skipping P08192.pdb (already processed)\n",
      "Skipping P0ADC6.pdb (already processed)\n"
     ]
    },
    {
     "name": "stderr",
     "output_type": "stream",
     "text": [
      " 81%|████████▏ | 241/296 [00:25<00:05,  9.49it/s]"
     ]
    },
    {
     "name": "stdout",
     "output_type": "stream",
     "text": [
      "Skipping P69222.pdb (already processed)\n",
      "Skipping P03004.pdb (already processed)\n"
     ]
    },
    {
     "name": "stderr",
     "output_type": "stream",
     "text": [
      " 82%|████████▏ | 243/296 [00:25<00:05,  9.49it/s]"
     ]
    },
    {
     "name": "stdout",
     "output_type": "stream",
     "text": [
      "Skipping P0A6R0.pdb (already processed)\n",
      "Skipping P0A6F5.pdb (already processed)\n"
     ]
    },
    {
     "name": "stderr",
     "output_type": "stream",
     "text": [
      " 83%|████████▎ | 245/296 [00:25<00:05,  9.47it/s]"
     ]
    },
    {
     "name": "stdout",
     "output_type": "stream",
     "text": [
      "Skipping P0AAI3.pdb (already processed)\n",
      "Skipping P05852.pdb (already processed)\n"
     ]
    },
    {
     "name": "stderr",
     "output_type": "stream",
     "text": [
      " 83%|████████▎ | 247/296 [00:25<00:05,  9.45it/s]"
     ]
    },
    {
     "name": "stdout",
     "output_type": "stream",
     "text": [
      "Skipping P0AGJ9.pdb (already processed)\n",
      "Skipping P0A7M2.pdb (already processed)\n"
     ]
    },
    {
     "name": "stderr",
     "output_type": "stream",
     "text": [
      " 84%|████████▍ | 249/296 [00:26<00:04,  9.51it/s]"
     ]
    },
    {
     "name": "stdout",
     "output_type": "stream",
     "text": [
      "Skipping P76062.pdb (already processed)\n",
      "Skipping P0A9B2.pdb (already processed)\n"
     ]
    },
    {
     "name": "stderr",
     "output_type": "stream",
     "text": [
      " 85%|████████▍ | 251/296 [00:26<00:04,  9.50it/s]"
     ]
    },
    {
     "name": "stdout",
     "output_type": "stream",
     "text": [
      "Skipping P0A7V8.pdb (already processed)\n",
      "Skipping P00452.pdb (already processed)\n"
     ]
    },
    {
     "name": "stderr",
     "output_type": "stream",
     "text": [
      " 85%|████████▌ | 253/296 [00:26<00:04,  9.56it/s]"
     ]
    },
    {
     "name": "stdout",
     "output_type": "stream",
     "text": [
      "Skipping P0AG24.pdb (already processed)\n",
      "Skipping P0AG30.pdb (already processed)\n"
     ]
    },
    {
     "name": "stderr",
     "output_type": "stream",
     "text": [
      " 86%|████████▌ | 255/296 [00:26<00:04,  9.58it/s]"
     ]
    },
    {
     "name": "stdout",
     "output_type": "stream",
     "text": [
      "Skipping P10443.pdb (already processed)\n",
      "Skipping P0A6K3.pdb (already processed)\n"
     ]
    },
    {
     "name": "stderr",
     "output_type": "stream",
     "text": [
      " 87%|████████▋ | 257/296 [00:27<00:04,  9.59it/s]"
     ]
    },
    {
     "name": "stdout",
     "output_type": "stream",
     "text": [
      "Skipping P0A6P9.pdb (already processed)\n",
      "Skipping P0A6S5.pdb (already processed)\n"
     ]
    },
    {
     "name": "stderr",
     "output_type": "stream",
     "text": [
      " 88%|████████▊ | 259/296 [00:27<00:03,  9.64it/s]"
     ]
    },
    {
     "name": "stdout",
     "output_type": "stream",
     "text": [
      "Skipping P43341.pdb (already processed)\n",
      "Skipping P0ADC1.pdb (already processed)\n"
     ]
    },
    {
     "name": "stderr",
     "output_type": "stream",
     "text": [
      " 88%|████████▊ | 261/296 [00:27<00:03,  9.60it/s]"
     ]
    },
    {
     "name": "stdout",
     "output_type": "stream",
     "text": [
      "Skipping P21513.pdb (already processed)\n",
      "Skipping P0AGD7.pdb (already processed)\n"
     ]
    },
    {
     "name": "stderr",
     "output_type": "stream",
     "text": [
      " 89%|████████▉ | 263/296 [00:27<00:03,  9.62it/s]"
     ]
    },
    {
     "name": "stdout",
     "output_type": "stream",
     "text": [
      "Skipping P0A7L3.pdb (already processed)\n",
      "Skipping P0A940.pdb (already processed)\n"
     ]
    },
    {
     "name": "stderr",
     "output_type": "stream",
     "text": [
      " 90%|████████▉ | 265/296 [00:27<00:03,  9.62it/s]"
     ]
    },
    {
     "name": "stdout",
     "output_type": "stream",
     "text": [
      "Skipping P0A7X6.pdb (already processed)\n",
      "Skipping P06966.pdb (already processed)\n"
     ]
    },
    {
     "name": "stderr",
     "output_type": "stream",
     "text": [
      " 90%|█████████ | 267/296 [00:28<00:03,  9.65it/s]"
     ]
    },
    {
     "name": "stdout",
     "output_type": "stream",
     "text": [
      "Skipping P22634.pdb (already processed)\n",
      "Skipping P0A799.pdb (already processed)\n"
     ]
    },
    {
     "name": "stderr",
     "output_type": "stream",
     "text": [
      " 91%|█████████ | 269/296 [00:28<00:02,  9.59it/s]"
     ]
    },
    {
     "name": "stdout",
     "output_type": "stream",
     "text": [
      "Skipping P0A7M6.pdb (already processed)\n",
      "Skipping P62615.pdb (already processed)\n"
     ]
    },
    {
     "name": "stderr",
     "output_type": "stream",
     "text": [
      " 92%|█████████▏| 271/296 [00:28<00:02,  9.50it/s]"
     ]
    },
    {
     "name": "stdout",
     "output_type": "stream",
     "text": [
      "Skipping P61320.pdb (already processed)\n",
      "Skipping P0A8I1.pdb (already processed)\n"
     ]
    },
    {
     "name": "stderr",
     "output_type": "stream",
     "text": [
      " 92%|█████████▏| 273/296 [00:28<00:02,  9.48it/s]"
     ]
    },
    {
     "name": "stdout",
     "output_type": "stream",
     "text": [
      "Skipping P0ADV1.pdb (already processed)\n",
      "Skipping P0C0R7.pdb (already processed)\n"
     ]
    },
    {
     "name": "stderr",
     "output_type": "stream",
     "text": [
      " 93%|█████████▎| 275/296 [00:28<00:02,  9.53it/s]"
     ]
    },
    {
     "name": "stdout",
     "output_type": "stream",
     "text": [
      "Skipping P0AD57.pdb (already processed)\n",
      "Skipping P60955.pdb (already processed)\n"
     ]
    },
    {
     "name": "stderr",
     "output_type": "stream",
     "text": [
      " 94%|█████████▎| 277/296 [00:29<00:01,  9.58it/s]"
     ]
    },
    {
     "name": "stdout",
     "output_type": "stream",
     "text": [
      "Skipping P45531.pdb (already processed)\n",
      "Skipping P0ADZ0.pdb (already processed)\n"
     ]
    },
    {
     "name": "stderr",
     "output_type": "stream",
     "text": [
      " 94%|█████████▍| 279/296 [00:29<00:01,  9.50it/s]"
     ]
    },
    {
     "name": "stdout",
     "output_type": "stream",
     "text": [
      "Skipping P23893.pdb (already processed)\n",
      "Skipping P62617.pdb (already processed)\n"
     ]
    },
    {
     "name": "stderr",
     "output_type": "stream",
     "text": [
      " 95%|█████████▍| 281/296 [00:29<00:01,  9.54it/s]"
     ]
    },
    {
     "name": "stdout",
     "output_type": "stream",
     "text": [
      "Skipping P23930.pdb (already processed)\n",
      "Skipping P0A7A7.pdb (already processed)\n"
     ]
    },
    {
     "name": "stderr",
     "output_type": "stream",
     "text": [
      " 96%|█████████▌| 283/296 [00:29<00:01,  9.52it/s]"
     ]
    },
    {
     "name": "stdout",
     "output_type": "stream",
     "text": [
      "Skipping P0AGE0.pdb (already processed)\n",
      "Skipping P0A7L0.pdb (already processed)\n"
     ]
    },
    {
     "name": "stderr",
     "output_type": "stream",
     "text": [
      " 96%|█████████▋| 285/296 [00:29<00:01,  9.53it/s]"
     ]
    },
    {
     "name": "stdout",
     "output_type": "stream",
     "text": [
      "Skipping P26647.pdb (already processed)\n",
      "Skipping P0A9V1.pdb (already processed)\n"
     ]
    },
    {
     "name": "stderr",
     "output_type": "stream",
     "text": [
      " 97%|█████████▋| 287/296 [00:30<00:00,  9.55it/s]"
     ]
    },
    {
     "name": "stdout",
     "output_type": "stream",
     "text": [
      "Skipping P68919.pdb (already processed)\n",
      "Skipping P60438.pdb (already processed)\n"
     ]
    },
    {
     "name": "stderr",
     "output_type": "stream",
     "text": [
      " 98%|█████████▊| 289/296 [00:30<00:00,  9.49it/s]"
     ]
    },
    {
     "name": "stdout",
     "output_type": "stream",
     "text": [
      "Skipping P0A7U3.pdb (already processed)\n",
      "Skipping P0A7T7.pdb (already processed)\n"
     ]
    },
    {
     "name": "stderr",
     "output_type": "stream",
     "text": [
      " 98%|█████████▊| 291/296 [00:30<00:00,  9.49it/s]"
     ]
    },
    {
     "name": "stdout",
     "output_type": "stream",
     "text": [
      "Skipping P0AEE3.pdb (already processed)\n",
      "Skipping P10121.pdb (already processed)\n"
     ]
    },
    {
     "name": "stderr",
     "output_type": "stream",
     "text": [
      " 99%|█████████▉| 293/296 [00:30<00:00,  9.54it/s]"
     ]
    },
    {
     "name": "stdout",
     "output_type": "stream",
     "text": [
      "Skipping P23886.pdb (already processed)\n",
      "Skipping P0AD68.pdb (already processed)\n"
     ]
    },
    {
     "name": "stderr",
     "output_type": "stream",
     "text": [
      "100%|█████████▉| 295/296 [00:31<00:00,  9.50it/s]"
     ]
    },
    {
     "name": "stdout",
     "output_type": "stream",
     "text": [
      "Skipping P0ADC3.pdb (already processed)\n",
      "Skipping P62399.pdb (already processed)\n"
     ]
    },
    {
     "name": "stderr",
     "output_type": "stream",
     "text": [
      "100%|██████████| 296/296 [00:31<00:00,  9.51it/s]"
     ]
    },
    {
     "name": "stdout",
     "output_type": "stream",
     "text": [
      "\n",
      "Preparation Summary:\n",
      "total_proteins: 296\n",
      "successful: 296\n",
      "failed: 0\n"
     ]
    },
    {
     "name": "stderr",
     "output_type": "stream",
     "text": [
      "\n"
     ]
    }
   ],
   "source": [
    "import os\n",
    "import subprocess\n",
    "from pathlib import Path\n",
    "from tqdm import tqdm\n",
    "import time\n",
    "\n",
    "class ProteinPrep:\n",
    "    def __init__(self, protein_dir, output_dir):\n",
    "        self.protein_dir = Path(protein_dir)\n",
    "        self.output_dir = Path(output_dir)\n",
    "        self.output_dir.mkdir(parents=True, exist_ok=True)\n",
    "    \n",
    "    def prepare_protein_openbabel(self, pdb_path):\n",
    "        \"\"\"Prepare protein using OpenBabel\"\"\"\n",
    "        output_pdbqt = self.output_dir / pdb_path.with_suffix('.pdbqt').name\n",
    "\n",
    "        if output_pdbqt.exists():\n",
    "            print(f\"Skipping {pdb_path.name} (already processed)\")\n",
    "            return True\n",
    "        \n",
    "        try:\n",
    "            cmd = [\n",
    "                \"obabel\",\n",
    "                \"-ipdb\", str(pdb_path),\n",
    "                \"-opdbqt\",\n",
    "                \"-O\", str(output_pdbqt),\n",
    "                \"-h\",             \n",
    "                \"-p\", \"7.4\",      \n",
    "                \"--partialcharge\", \"gasteiger\"\n",
    "            ]\n",
    "            \n",
    "            result = subprocess.run(cmd, capture_output=True, text=True, timeout=300)\n",
    "            \n",
    "            if result.returncode == 0:\n",
    "                print(f\"Successfully prepared {pdb_path.name} using OpenBabel\")\n",
    "                return True\n",
    "            \n",
    "            print(f\"Failed to prepare {pdb_path.name} with OpenBabel\")\n",
    "            print(f\"OpenBabel error: {result.stderr}\")\n",
    "            return False\n",
    "            \n",
    "        except subprocess.TimeoutExpired:\n",
    "            print(f\"Timeout while processing {pdb_path.name}\")\n",
    "            return False\n",
    "        except Exception as e:\n",
    "            print(f\"Failed to prepare protein {pdb_path.name}: {str(e)}\")\n",
    "            return False\n",
    "    \n",
    "    def run_preparation(self):\n",
    "        \"\"\"Run protein preparation for all PDB files\"\"\"\n",
    "        pdb_files = list(self.protein_dir.glob(\"*.pdb\"))\n",
    "        \n",
    "        if not pdb_files:\n",
    "            print(f\"No PDB files found in {self.protein_dir}\")\n",
    "            return\n",
    "        \n",
    "        print(f\"\\nPreparing {len(pdb_files)} proteins...\")\n",
    "        results = []\n",
    "        \n",
    "        for pdb_file in tqdm(pdb_files):\n",
    "            success = self.prepare_protein_openbabel(pdb_file)\n",
    "            results.append({\n",
    "                'protein': pdb_file.stem,\n",
    "                'success': success\n",
    "            })\n",
    "            time.sleep(0.1)\n",
    "        \n",
    "        summary = {\n",
    "            'total_proteins': len(results),\n",
    "            'successful': sum(1 for r in results if r['success']),\n",
    "            'failed': sum(1 for r in results if not r['success'])\n",
    "        }\n",
    "        print(\"\\nPreparation Summary:\")\n",
    "        for key, value in summary.items():\n",
    "            print(f\"{key}: {value}\")\n",
    "        \n",
    "        failed = [r['protein'] for r in results if not r['success']]\n",
    "        if failed:\n",
    "            print(\"\\nFailed proteins:\")\n",
    "            for protein in failed:\n",
    "                print(f\"- {protein}\")\n",
    "\n",
    "if __name__ == \"__main__\":\n",
    "    protein_dir = \"/Users/andreayang/analog-gnn/benchmarking/proteins\"\n",
    "    output_dir = \"/Users/andreayang/analog-gnn/benchmarking/compounds/proteins\"\n",
    "    \n",
    "    prep = ProteinPrep(protein_dir, output_dir)\n",
    "    prep.run_preparation()"
   ]
  }
 ],
 "metadata": {
  "kernelspec": {
   "display_name": "myenv",
   "language": "python",
   "name": "python3"
  },
  "language_info": {
   "codemirror_mode": {
    "name": "ipython",
    "version": 3
   },
   "file_extension": ".py",
   "mimetype": "text/x-python",
   "name": "python",
   "nbconvert_exporter": "python",
   "pygments_lexer": "ipython3",
   "version": "3.12.2"
  },
  "orig_nbformat": 4
 },
 "nbformat": 4,
 "nbformat_minor": 2
}
